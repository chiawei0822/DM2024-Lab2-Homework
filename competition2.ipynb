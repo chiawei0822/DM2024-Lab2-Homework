{
 "cells": [
  {
   "cell_type": "markdown",
   "metadata": {},
   "source": [
    "# Import Library"
   ]
  },
  {
   "cell_type": "code",
   "execution_count": 1,
   "metadata": {
    "_cell_guid": "3a1d97ea-2d1c-4398-8ad8-2396a999f003",
    "_uuid": "add12f9f-a65d-45b3-9c56-de23e031498c",
    "execution": {
     "iopub.execute_input": "2024-12-04T09:44:18.047084Z",
     "iopub.status.busy": "2024-12-04T09:44:18.046596Z",
     "iopub.status.idle": "2024-12-04T09:44:18.053888Z",
     "shell.execute_reply": "2024-12-04T09:44:18.052740Z",
     "shell.execute_reply.started": "2024-12-04T09:44:18.047046Z"
    },
    "trusted": true
   },
   "outputs": [],
   "source": [
    "import json\n",
    "import pandas as pd\n",
    "import numpy as np\n",
    "import nltk\n",
    "import matplotlib.pyplot as plt\n",
    "from collections import Counter\n",
    "\n",
    "from sklearn.feature_extraction.text import TfidfVectorizer\n",
    "from sklearn.model_selection import train_test_split\n",
    "from sklearn.preprocessing import LabelEncoder\n",
    "from sklearn.linear_model import LogisticRegression\n",
    "from sklearn.ensemble import RandomForestClassifier\n",
    "from sklearn.metrics import classification_report"
   ]
  },
  {
   "cell_type": "markdown",
   "metadata": {},
   "source": [
    "# Load Data"
   ]
  },
  {
   "cell_type": "code",
   "execution_count": 2,
   "metadata": {},
   "outputs": [],
   "source": [
    "# Read data\n",
    "\n",
    "data = []\n",
    "with open('/Users/vivian/OneDrive - NTHU/文件/清大/Data mining/DMLab2/hw/tweets_DM.json', 'r') as f:\n",
    "    for line in f:\n",
    "        data.append(json.loads(line))\n",
    " \n",
    "f.close()\n",
    "emotion = pd.read_csv('C:/Users/vivian/OneDrive - NTHU/文件/清大/Data mining/DMLab2/hw/emotion.csv')\n",
    "data_identification = pd.read_csv('C:/Users/vivian/OneDrive - NTHU/文件/清大/Data mining/DMLab2/hw/data_identification.csv')"
   ]
  },
  {
   "cell_type": "markdown",
   "metadata": {},
   "source": [
    "# Build a new dataframe by selecting useful features."
   ]
  },
  {
   "cell_type": "code",
   "execution_count": 3,
   "metadata": {
    "_cell_guid": "dd099707-578e-4510-a78d-56b969921d45",
    "_uuid": "d89983c2-1181-4129-ae93-3080d1112dba",
    "collapsed": false,
    "execution": {
     "iopub.execute_input": "2024-12-04T09:44:51.452396Z",
     "iopub.status.busy": "2024-12-04T09:44:51.452097Z",
     "iopub.status.idle": "2024-12-04T09:45:01.372925Z",
     "shell.execute_reply": "2024-12-04T09:45:01.371768Z",
     "shell.execute_reply.started": "2024-12-04T09:44:51.452366Z"
    },
    "jupyter": {
     "outputs_hidden": false
    },
    "trusted": true
   },
   "outputs": [],
   "source": [
    "# Filter out the 'train' data\n",
    "df = pd.DataFrame(data)\n",
    "_source = df['_source'].apply(lambda x: x['tweet'])\n",
    "df = pd.DataFrame({\n",
    "    'tweet_id': _source.apply(lambda x: x['tweet_id']),\n",
    "    'hashtags': _source.apply(lambda x: x['hashtags']),\n",
    "    'text': _source.apply(lambda x: x['text']),\n",
    "})\n",
    "df = df.merge(data_identification, on='tweet_id', how='left')\n",
    "\n",
    "train_data = df[df['identification'] == 'train']"
   ]
  },
  {
   "cell_type": "markdown",
   "metadata": {},
   "source": [
    "# Preprocess"
   ]
  },
  {
   "cell_type": "code",
   "execution_count": 4,
   "metadata": {
    "_cell_guid": "301c2874-42b5-4cfe-8360-73e5ba4e227c",
    "_uuid": "7475483a-ac22-49b0-b8f9-2c59590889be",
    "collapsed": false,
    "execution": {
     "iopub.execute_input": "2024-12-04T09:45:01.374706Z",
     "iopub.status.busy": "2024-12-04T09:45:01.374369Z",
     "iopub.status.idle": "2024-12-04T09:45:05.217986Z",
     "shell.execute_reply": "2024-12-04T09:45:05.216849Z",
     "shell.execute_reply.started": "2024-12-04T09:45:01.374675Z"
    },
    "jupyter": {
     "outputs_hidden": false
    },
    "trusted": true
   },
   "outputs": [],
   "source": [
    "train_data = train_data.merge(emotion, on='tweet_id', how='left') # Merge emotion for corresponding tweet_id\n",
    "train_data.drop_duplicates(subset=['text'], keep=False, inplace=True) # Remove duplication"
   ]
  },
  {
   "cell_type": "code",
   "execution_count": 23,
   "metadata": {
    "_cell_guid": "da133c00-1c63-4df9-8b19-63f20214ed73",
    "_uuid": "d14f42ef-dd9b-4f0e-9df6-4d55c8a9cb6e",
    "collapsed": false,
    "execution": {
     "iopub.execute_input": "2024-12-04T09:45:05.220876Z",
     "iopub.status.busy": "2024-12-04T09:45:05.220540Z",
     "iopub.status.idle": "2024-12-04T09:45:05.394568Z",
     "shell.execute_reply": "2024-12-04T09:45:05.393579Z",
     "shell.execute_reply.started": "2024-12-04T09:45:05.220844Z"
    },
    "jupyter": {
     "outputs_hidden": false
    },
    "trusted": true
   },
   "outputs": [],
   "source": [
    "train_data_sample = train_data.sample(frac=0.1) # Get sample"
   ]
  },
  {
   "cell_type": "code",
   "execution_count": 6,
   "metadata": {
    "execution": {
     "iopub.execute_input": "2024-12-04T09:45:05.396442Z",
     "iopub.status.busy": "2024-12-04T09:45:05.396045Z",
     "iopub.status.idle": "2024-12-04T09:45:05.418093Z",
     "shell.execute_reply": "2024-12-04T09:45:05.416914Z",
     "shell.execute_reply.started": "2024-12-04T09:45:05.396399Z"
    },
    "trusted": true
   },
   "outputs": [
    {
     "data": {
      "text/html": [
       "<div>\n",
       "<style scoped>\n",
       "    .dataframe tbody tr th:only-of-type {\n",
       "        vertical-align: middle;\n",
       "    }\n",
       "\n",
       "    .dataframe tbody tr th {\n",
       "        vertical-align: top;\n",
       "    }\n",
       "\n",
       "    .dataframe thead th {\n",
       "        text-align: right;\n",
       "    }\n",
       "</style>\n",
       "<table border=\"1\" class=\"dataframe\">\n",
       "  <thead>\n",
       "    <tr style=\"text-align: right;\">\n",
       "      <th></th>\n",
       "      <th>tweet_id</th>\n",
       "      <th>hashtags</th>\n",
       "      <th>text</th>\n",
       "      <th>identification</th>\n",
       "      <th>emotion</th>\n",
       "    </tr>\n",
       "  </thead>\n",
       "  <tbody>\n",
       "    <tr>\n",
       "      <th>583779</th>\n",
       "      <td>0x2d1093</td>\n",
       "      <td>[please]</td>\n",
       "      <td>@ThatKevinSmith @smosier  is the SMODcast you ...</td>\n",
       "      <td>train</td>\n",
       "      <td>trust</td>\n",
       "    </tr>\n",
       "    <tr>\n",
       "      <th>1406190</th>\n",
       "      <td>0x2edc0f</td>\n",
       "      <td>[needfood, wantfood, givemefood]</td>\n",
       "      <td>Willing to burpee/jump squat for Jaffa Cakes r...</td>\n",
       "      <td>train</td>\n",
       "      <td>anticipation</td>\n",
       "    </tr>\n",
       "    <tr>\n",
       "      <th>383009</th>\n",
       "      <td>0x286121</td>\n",
       "      <td>[Power5at5]</td>\n",
       "      <td>Hey @POWERATL @maddoxradio please play &lt;LH&gt; by...</td>\n",
       "      <td>train</td>\n",
       "      <td>sadness</td>\n",
       "    </tr>\n",
       "    <tr>\n",
       "      <th>1371071</th>\n",
       "      <td>0x368aff</td>\n",
       "      <td>[bathe]</td>\n",
       "      <td>Does it ever dawn on people that they smell li...</td>\n",
       "      <td>train</td>\n",
       "      <td>disgust</td>\n",
       "    </tr>\n",
       "    <tr>\n",
       "      <th>508450</th>\n",
       "      <td>0x2c05eb</td>\n",
       "      <td>[]</td>\n",
       "      <td>@JL_Baseball I was thinking contact not a hit ...</td>\n",
       "      <td>train</td>\n",
       "      <td>disgust</td>\n",
       "    </tr>\n",
       "    <tr>\n",
       "      <th>...</th>\n",
       "      <td>...</td>\n",
       "      <td>...</td>\n",
       "      <td>...</td>\n",
       "      <td>...</td>\n",
       "      <td>...</td>\n",
       "    </tr>\n",
       "    <tr>\n",
       "      <th>1447103</th>\n",
       "      <td>0x288016</td>\n",
       "      <td>[]</td>\n",
       "      <td>@KingsbarnsGL what hole is the 18th for the Op...</td>\n",
       "      <td>train</td>\n",
       "      <td>sadness</td>\n",
       "    </tr>\n",
       "    <tr>\n",
       "      <th>279224</th>\n",
       "      <td>0x1f202d</td>\n",
       "      <td>[]</td>\n",
       "      <td>Hey @GeorgeTakei, don’t speak from a moral hig...</td>\n",
       "      <td>train</td>\n",
       "      <td>disgust</td>\n",
       "    </tr>\n",
       "    <tr>\n",
       "      <th>874274</th>\n",
       "      <td>0x1f8073</td>\n",
       "      <td>[problems, to, people]</td>\n",
       "      <td>Your \"sorry\" works when you made a mistake but...</td>\n",
       "      <td>train</td>\n",
       "      <td>trust</td>\n",
       "    </tr>\n",
       "    <tr>\n",
       "      <th>1269672</th>\n",
       "      <td>0x23df51</td>\n",
       "      <td>[loveliveLife]</td>\n",
       "      <td>Challenges and Goals for 2018! &lt;LH&gt; #loveliveL...</td>\n",
       "      <td>train</td>\n",
       "      <td>joy</td>\n",
       "    </tr>\n",
       "    <tr>\n",
       "      <th>389393</th>\n",
       "      <td>0x35b971</td>\n",
       "      <td>[]</td>\n",
       "      <td>I'm trying to bump 'Reasonable Doubt' but Appl...</td>\n",
       "      <td>train</td>\n",
       "      <td>sadness</td>\n",
       "    </tr>\n",
       "  </tbody>\n",
       "</table>\n",
       "<p>144918 rows × 5 columns</p>\n",
       "</div>"
      ],
      "text/plain": [
       "         tweet_id                          hashtags  \\\n",
       "583779   0x2d1093                          [please]   \n",
       "1406190  0x2edc0f  [needfood, wantfood, givemefood]   \n",
       "383009   0x286121                       [Power5at5]   \n",
       "1371071  0x368aff                           [bathe]   \n",
       "508450   0x2c05eb                                []   \n",
       "...           ...                               ...   \n",
       "1447103  0x288016                                []   \n",
       "279224   0x1f202d                                []   \n",
       "874274   0x1f8073            [problems, to, people]   \n",
       "1269672  0x23df51                    [loveliveLife]   \n",
       "389393   0x35b971                                []   \n",
       "\n",
       "                                                      text identification  \\\n",
       "583779   @ThatKevinSmith @smosier  is the SMODcast you ...          train   \n",
       "1406190  Willing to burpee/jump squat for Jaffa Cakes r...          train   \n",
       "383009   Hey @POWERATL @maddoxradio please play <LH> by...          train   \n",
       "1371071  Does it ever dawn on people that they smell li...          train   \n",
       "508450   @JL_Baseball I was thinking contact not a hit ...          train   \n",
       "...                                                    ...            ...   \n",
       "1447103  @KingsbarnsGL what hole is the 18th for the Op...          train   \n",
       "279224   Hey @GeorgeTakei, don’t speak from a moral hig...          train   \n",
       "874274   Your \"sorry\" works when you made a mistake but...          train   \n",
       "1269672  Challenges and Goals for 2018! <LH> #loveliveL...          train   \n",
       "389393   I'm trying to bump 'Reasonable Doubt' but Appl...          train   \n",
       "\n",
       "              emotion  \n",
       "583779          trust  \n",
       "1406190  anticipation  \n",
       "383009        sadness  \n",
       "1371071       disgust  \n",
       "508450        disgust  \n",
       "...               ...  \n",
       "1447103       sadness  \n",
       "279224        disgust  \n",
       "874274          trust  \n",
       "1269672           joy  \n",
       "389393        sadness  \n",
       "\n",
       "[144918 rows x 5 columns]"
      ]
     },
     "execution_count": 6,
     "metadata": {},
     "output_type": "execute_result"
    }
   ],
   "source": [
    "train_data_sample"
   ]
  },
  {
   "cell_type": "markdown",
   "metadata": {},
   "source": [
    "### Droping tweet_id and identification, because it isn't going to be features used on training"
   ]
  },
  {
   "cell_type": "code",
   "execution_count": 24,
   "metadata": {
    "_cell_guid": "39937cf7-dddd-41d9-aaa8-09274dd3ef19",
    "_uuid": "9a987df6-b0d2-427c-80ff-a8cd876c6e96",
    "collapsed": false,
    "execution": {
     "iopub.execute_input": "2024-12-04T09:45:05.419693Z",
     "iopub.status.busy": "2024-12-04T09:45:05.419351Z",
     "iopub.status.idle": "2024-12-04T09:45:05.643992Z",
     "shell.execute_reply": "2024-12-04T09:45:05.643030Z",
     "shell.execute_reply.started": "2024-12-04T09:45:05.419660Z"
    },
    "jupyter": {
     "outputs_hidden": false
    },
    "trusted": true
   },
   "outputs": [],
   "source": [
    "y_train_data = train_data_sample['emotion']\n",
    "X_train_data = train_data_sample.drop(['tweet_id', 'emotion', 'identification'], axis=1)\n",
    "X_train_data = X_train_data['text'] + ' ' + X_train_data['hashtags'].apply(lambda x: ' '.join(x)) # Combine text and hashtags "
   ]
  },
  {
   "cell_type": "code",
   "execution_count": 25,
   "metadata": {},
   "outputs": [],
   "source": [
    "# y_train_data = train_data['emotion']\n",
    "# X_train_data = train_data.drop(['tweet_id', 'emotion', 'identification'], axis=1)\n",
    "# X_train_data = X_train_data['text'] + ' ' + X_train_data['hashtags'].apply(lambda x: ' '.join(x)) # Combine text and hashtags "
   ]
  },
  {
   "cell_type": "code",
   "execution_count": 26,
   "metadata": {
    "execution": {
     "iopub.execute_input": "2024-12-04T09:45:05.645570Z",
     "iopub.status.busy": "2024-12-04T09:45:05.645269Z",
     "iopub.status.idle": "2024-12-04T09:45:05.654163Z",
     "shell.execute_reply": "2024-12-04T09:45:05.653038Z",
     "shell.execute_reply.started": "2024-12-04T09:45:05.645535Z"
    },
    "trusted": true
   },
   "outputs": [
    {
     "data": {
      "text/plain": [
       "242688     Baby sister got her first promotion. Climbing ...\n",
       "852865     Just wondering how many people follow etiquett...\n",
       "865202     @CanadianPM Happy Vote @CPC_HQ 2019 Day!!!!! #...\n",
       "776645     @AlexaDWilson @jtlovell1979 An elderly lady at...\n",
       "604907     Judges 9:15 And the #bramble said to the #tree...\n",
       "                                 ...                        \n",
       "1275558    When your dad pulls through and buys chatime 👏...\n",
       "646215     I'm so grateful I could burst! <LH> #gratitude...\n",
       "1335474    Aliens exist. I am one, jk. But Toby McGuire h...\n",
       "1429934    God wants us to always remember that He knows ...\n",
       "61146      Pls follow me or be my friend I’m a nice human...\n",
       "Length: 144918, dtype: object"
      ]
     },
     "execution_count": 26,
     "metadata": {},
     "output_type": "execute_result"
    }
   ],
   "source": [
    "X_train_data"
   ]
  },
  {
   "cell_type": "markdown",
   "metadata": {},
   "source": [
    "### For the current stage, we now have combination of text and hashtags."
   ]
  },
  {
   "cell_type": "markdown",
   "metadata": {},
   "source": [
    "### "
   ]
  },
  {
   "cell_type": "code",
   "execution_count": 10,
   "metadata": {
    "_cell_guid": "27d6f1a6-e2c1-4f02-be9c-b0a941f7d4d3",
    "_uuid": "783a7801-2b7b-48af-bc79-daa7683d8e9d",
    "collapsed": false,
    "jupyter": {
     "outputs_hidden": false
    },
    "trusted": true
   },
   "outputs": [],
   "source": [
    "from sklearn.model_selection import train_test_split\n",
    "# Split training and testing data for evaluation.\n",
    "X_train, X_test, y_train, y_test = train_test_split(X_train_data, y_train_data, test_size=0.2, random_state=42, stratify=y_train_data) \n"
   ]
  },
  {
   "cell_type": "code",
   "execution_count": 11,
   "metadata": {
    "_cell_guid": "69a49263-23bf-4c77-80b4-599109e07eb4",
    "_uuid": "8c24dec5-49fb-466a-9261-c8c32aa4a651",
    "collapsed": false,
    "jupyter": {
     "outputs_hidden": false
    },
    "trusted": true
   },
   "outputs": [],
   "source": [
    "tfidf = TfidfVectorizer(max_features=1000) # Use tfidfVectorizer and remove stop_words.\n",
    "X = tfidf.fit_transform(X_train).toarray()\n",
    "X_test = tfidf.transform(X_test)"
   ]
  },
  {
   "cell_type": "code",
   "execution_count": 12,
   "metadata": {
    "_cell_guid": "4cd63df9-a7b2-4855-ac8e-d6b76081018c",
    "_uuid": "9f0721ae-12d7-4664-8abb-c2bb624517c4",
    "trusted": true
   },
   "outputs": [],
   "source": [
    "le = LabelEncoder() # Label target\n",
    "y = le.fit_transform(y_train)\n",
    "y_test = le.transform(y_test)"
   ]
  },
  {
   "cell_type": "code",
   "execution_count": 13,
   "metadata": {
    "_cell_guid": "743b776c-f14b-4bda-910e-67a23b359bd5",
    "_uuid": "f736b5f0-b152-4af2-afd3-1000ddc9ae8b",
    "trusted": true
   },
   "outputs": [],
   "source": [
    "clf = RandomForestClassifier() # Use RandomForest model\n",
    "clf.fit(X, y)\n",
    "model = clf"
   ]
  },
  {
   "cell_type": "code",
   "execution_count": 28,
   "metadata": {
    "_cell_guid": "88f87726-0018-49e1-8bf3-d459da0636e4",
    "_uuid": "55b7553c-bd26-430a-9b84-99441bd41e94",
    "collapsed": false,
    "jupyter": {
     "outputs_hidden": false
    },
    "trusted": true
   },
   "outputs": [],
   "source": [
    "y_pred = model.predict(X_test) # Predict"
   ]
  },
  {
   "cell_type": "code",
   "execution_count": 15,
   "metadata": {
    "_cell_guid": "c7146926-5ba4-4bf7-8535-eb464dab232d",
    "_uuid": "1d21fd9c-03b7-4e10-953a-f437738adf48",
    "collapsed": false,
    "jupyter": {
     "outputs_hidden": false
    },
    "trusted": true
   },
   "outputs": [
    {
     "data": {
      "text/plain": [
       "0.4913400496825835"
      ]
     },
     "execution_count": 15,
     "metadata": {},
     "output_type": "execute_result"
    }
   ],
   "source": [
    "from sklearn.metrics import accuracy_score\n",
    "accuracy_score(y_test, y_pred) # Evaluation"
   ]
  },
  {
   "cell_type": "markdown",
   "metadata": {
    "_cell_guid": "18388020-30e4-4a7a-8ff2-70aa0b08b93d",
    "_uuid": "c459c037-8030-4474-bde1-be24e57d296b",
    "collapsed": false,
    "jupyter": {
     "outputs_hidden": false
    },
    "trusted": true
   },
   "source": [
    "# Deal with test data"
   ]
  },
  {
   "cell_type": "markdown",
   "metadata": {},
   "source": [
    "### Convert test data into the form that same as train data."
   ]
  },
  {
   "cell_type": "code",
   "execution_count": 16,
   "metadata": {
    "_cell_guid": "1d567e2c-dc17-4229-9b6b-01fbe4e2189c",
    "_uuid": "f0f83c94-2b60-4fea-9458-7b4122200281",
    "collapsed": false,
    "jupyter": {
     "outputs_hidden": false
    },
    "trusted": true
   },
   "outputs": [],
   "source": [
    "test_data = df[df['identification'] == 'test'] # Get the test data from df"
   ]
  },
  {
   "cell_type": "code",
   "execution_count": 17,
   "metadata": {
    "_cell_guid": "73ed8768-8b5c-4bb9-9c86-4f374bb1e530",
    "_uuid": "a48cff73-74c7-456b-9f91-517bab107e8e",
    "collapsed": false,
    "jupyter": {
     "outputs_hidden": false
    },
    "trusted": true
   },
   "outputs": [],
   "source": [
    "# Do the same thing as training stage, but here we don't have emotions feature.\n",
    "X_test_data = test_data.drop(['tweet_id', 'identification'], axis=1)\n",
    "X_test_data = X_test_data['text'] + ' ' + X_test_data['hashtags'].apply(lambda x: ' '.join(x))"
   ]
  },
  {
   "cell_type": "code",
   "execution_count": 18,
   "metadata": {
    "_cell_guid": "17f85863-fcc4-4564-ab61-efd8f336ac30",
    "_uuid": "f37af5cb-47db-443b-b6af-c235b2bc9f6d",
    "collapsed": false,
    "jupyter": {
     "outputs_hidden": false
    },
    "trusted": true
   },
   "outputs": [],
   "source": [
    "X_test_data = tfidf.transform(X_test_data).toarray() # Convert test data by using same tfidfVectorizer"
   ]
  },
  {
   "cell_type": "code",
   "execution_count": 19,
   "metadata": {
    "_cell_guid": "fcd028a4-172e-4542-b934-287bddadc62d",
    "_uuid": "3309b545-1af4-4fc6-82d6-386f148e9aa6",
    "collapsed": false,
    "jupyter": {
     "outputs_hidden": false
    },
    "trusted": true
   },
   "outputs": [],
   "source": [
    "y_test_pred = model.predict(X_test_data)"
   ]
  },
  {
   "cell_type": "code",
   "execution_count": 20,
   "metadata": {
    "_cell_guid": "2eba1bff-883d-4fe0-867d-684c6f66fbc2",
    "_uuid": "e43ae83f-628e-4aee-bfd9-9ab48890d4b5",
    "collapsed": false,
    "jupyter": {
     "outputs_hidden": false
    },
    "trusted": true
   },
   "outputs": [],
   "source": [
    "y_pred_labels = le.inverse_transform(y_test_pred) # Inverse predict labels back to adjective words"
   ]
  },
  {
   "cell_type": "markdown",
   "metadata": {
    "_cell_guid": "515e5b52-c6aa-4e11-95d1-0a617e8969f1",
    "_uuid": "556454d0-f4b9-4565-b422-3538fbede0c6",
    "collapsed": false,
    "jupyter": {
     "outputs_hidden": false
    },
    "trusted": true
   },
   "source": [
    "## Make up submit format"
   ]
  },
  {
   "cell_type": "code",
   "execution_count": 21,
   "metadata": {
    "_cell_guid": "c831f309-182a-4377-b100-d7e67ce3d6ba",
    "_uuid": "13a14210-bddb-40cf-b0d6-107d1f0af0a8",
    "collapsed": false,
    "jupyter": {
     "outputs_hidden": false
    },
    "trusted": true
   },
   "outputs": [],
   "source": [
    "submission = pd.DataFrame({\n",
    "    'id': test_data['tweet_id'],\n",
    "    'emotion': y_pred_labels\n",
    "})"
   ]
  },
  {
   "cell_type": "code",
   "execution_count": 22,
   "metadata": {
    "_cell_guid": "5631bd37-f72e-4190-9214-8829f83cad35",
    "_uuid": "c31c854c-fab5-46f4-82ca-eb9e0e641faa",
    "collapsed": false,
    "jupyter": {
     "outputs_hidden": false
    },
    "trusted": true
   },
   "outputs": [],
   "source": [
    "submission.to_csv('C:/Users/vivian/OneDrive - NTHU/文件/清大/Data mining/DMLab2/hw/submission.csv', index=False)"
   ]
  }
 ],
 "metadata": {
  "kaggle": {
   "accelerator": "nvidiaTeslaT4",
   "dataSources": [
    {
     "databundleVersionId": 9912598,
     "sourceId": 87232,
     "sourceType": "competition"
    }
   ],
   "dockerImageVersionId": 30786,
   "isGpuEnabled": true,
   "isInternetEnabled": false,
   "language": "python",
   "sourceType": "notebook"
  },
  "kernelspec": {
   "display_name": "data_mining",
   "language": "python",
   "name": "python3"
  },
  "language_info": {
   "codemirror_mode": {
    "name": "ipython",
    "version": 3
   },
   "file_extension": ".py",
   "mimetype": "text/x-python",
   "name": "python",
   "nbconvert_exporter": "python",
   "pygments_lexer": "ipython3",
   "version": "3.9.6"
  }
 },
 "nbformat": 4,
 "nbformat_minor": 4
}
